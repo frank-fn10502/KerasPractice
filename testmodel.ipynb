{
 "cells": [
  {
   "cell_type": "code",
   "execution_count": null,
   "metadata": {},
   "outputs": [],
   "source": [
    "import tensorflow as tf\n",
    "# tf.test.is_gpu_available()\n",
    "tf.config.list_physical_devices('GPU')\n"
   ]
  },
  {
   "cell_type": "code",
   "execution_count": null,
   "metadata": {},
   "outputs": [],
   "source": [
    "import tensorflow as tf\n",
    "# my custom lib\n",
    "from frankModel import LeNet\n",
    "from frankModel import AlexNet\n",
    "from frankModel import VGG16\n",
    "from frankModel import InceptionV1\n",
    "from frankModel import ResNet50\n",
    "from frankModel import EfficientNetV2_S\n",
    "\n",
    "\n",
    "from small_dataset import MNIST\n",
    "from small_dataset import CIFAR10\n",
    "from small_dataset import CIFAR100"
   ]
  },
  {
   "cell_type": "code",
   "execution_count": null,
   "metadata": {},
   "outputs": [],
   "source": [
    "dataset = CIFAR10(info=True).addChannel().tocategorical().Done()"
   ]
  },
  {
   "cell_type": "code",
   "execution_count": null,
   "metadata": {},
   "outputs": [],
   "source": [
    "import tensorflow as tf\n",
    "\n",
    "#取得模型架構\n",
    "MyNet = EfficientNetV2_S(datasetName=dataset.className,input_shape=(None,None,3) ,classes=len(dataset.train_y[0]))\n"
   ]
  },
  {
   "cell_type": "code",
   "execution_count": null,
   "metadata": {},
   "outputs": [],
   "source": [
    "initial_learning_rate = 1e-4\n",
    "lr_schedule = tf.keras.optimizers.schedules.ExponentialDecay(\n",
    "    initial_learning_rate,\n",
    "    decay_steps=1000,\n",
    "    decay_rate=0.96,\n",
    "    staircase=True)\n",
    "\n",
    "#訓練\n",
    "# compile  #在每層 layer 和 compile 都可自動尋找超參數\n",
    "strategy = tf.distribute.MirroredStrategy()\n",
    "print(f\"Number of devices: {strategy.num_replicas_in_sync}\")\n",
    "\n",
    "with strategy.scope():\n",
    "    #取得模型架構\n",
    "    MyNet = EfficientNetV2_S(datasetName=dataset.className,input_shape=(32,32,3) ,classes=len(dataset.train_y[0]))\n",
    "    \n",
    "    MyNet.model.compile(\n",
    "        #learning_rate=0.01\n",
    "        optimizer= tf.keras.optimizers.Adam(learning_rate=lr_schedule,epsilon=1e-09),\n",
    "        loss= 'categorical_crossentropy',\n",
    "        metrics=['accuracy']\n",
    "    )\n",
    "\n",
    "# fit\n",
    "history  = \\\n",
    "MyNet.model.fit(\n",
    "    x = dataset.train_x,\n",
    "    y = dataset.train_y,\n",
    "    epochs = 30,\n",
    "    batch_size = 64,\n",
    "    validation_data = (dataset.test_x ,dataset.test_y)\n",
    ")\n"
   ]
  },
  {
   "cell_type": "code",
   "execution_count": null,
   "metadata": {},
   "outputs": [],
   "source": [
    "#取得訓練結果\n",
    "#   save the entire model as a single file\n",
    "#   model = keras.models.load_model(\"path_to_my_model\")\n",
    "# model.save(f\"{save_model_dir}\")\n",
    "MyNet.outputHelper.saveModel()"
   ]
  },
  {
   "cell_type": "code",
   "execution_count": null,
   "metadata": {},
   "outputs": [],
   "source": [
    "history.history"
   ]
  },
  {
   "cell_type": "code",
   "execution_count": null,
   "metadata": {},
   "outputs": [],
   "source": [
    "# print(history.history)\n",
    "r = history.history\n",
    "MyNet.outputHelper.drawTrainProcess(r)"
   ]
  }
 ],
 "metadata": {
  "interpreter": {
   "hash": "15443c155933cd13719346cff95e6995c74e568d18bfff688e9267bd1dcf0534"
  },
  "kernelspec": {
   "display_name": "Python 3.8.2 64-bit ('keras2.6': conda)",
   "name": "python3"
  },
  "language_info": {
   "codemirror_mode": {
    "name": "ipython",
    "version": 3
   },
   "file_extension": ".py",
   "mimetype": "text/x-python",
   "name": "python",
   "nbconvert_exporter": "python",
   "pygments_lexer": "ipython3",
   "version": "3.8.2"
  },
  "orig_nbformat": 4
 },
 "nbformat": 4,
 "nbformat_minor": 2
}
