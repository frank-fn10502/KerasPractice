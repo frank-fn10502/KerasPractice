{
 "cells": [
  {
   "cell_type": "code",
   "execution_count": 1,
   "metadata": {},
   "outputs": [],
   "source": [
    "import tensorflow as tf\n",
    "# tf.test.is_gpu_available()\n",
    "tf.config.list_physical_devices('GPU')\n"
   ]
  },
  {
   "cell_type": "code",
   "execution_count": 1,
   "metadata": {},
   "outputs": [],
   "source": [
    "import tensorflow as tf\n",
    "# my custom lib\n",
    "from frankModel import LeNet\n",
    "from frankModel import AlexNet\n",
    "from frankModel import VGG16\n",
    "from frankModel import InceptionV1\n",
    "\n",
    "\n",
    "from small_dataset import MNIST\n",
    "from small_dataset import CIFAR10\n",
    "from small_dataset import CIFAR100"
   ]
  },
  {
   "cell_type": "code",
   "execution_count": 2,
   "metadata": {},
   "outputs": [
    {
     "name": "stdout",
     "output_type": "stream",
     "text": [
      "dataset: \n",
      "    使用 tensorflow.keras 取得的 CIFAR10 資料集(https://keras.io/api/datasets/cifar10/) \n",
      "\n",
      "    The CIFAR-10 dataset consists of 60000 32x32 colour images in 10 classes, with 6000 images per class. \n",
      "\n",
      "    There are 50000 training images and 10000 test images.\n",
      "     \n",
      "\n",
      "one-hot encoder:\n",
      "\tindex: 0 ,pre: [6] ,after:[0. 0. 0. 0. 0. 0. 1. 0. 0. 0.]\n",
      "\tindex: 0 ,pre: [3] ,after:[0. 0. 0. 1. 0. 0. 0. 0. 0. 0.]\n",
      "----------\n",
      "train_x:(50000, 32, 32, 3) \n",
      "train_y:(50000, 10) \n",
      "test_x:(10000, 32, 32, 3) \n",
      "test_y:(10000, 10)\n"
     ]
    }
   ],
   "source": [
    "dataset = CIFAR10(info=True).addChannel().tocategorical().Done()"
   ]
  },
  {
   "cell_type": "code",
   "execution_count": 3,
   "metadata": {},
   "outputs": [
    {
     "ename": "NameError",
     "evalue": "name 'tf' is not defined",
     "output_type": "error",
     "traceback": [
      "\u001b[0;31m---------------------------------------------------------------------------\u001b[0m",
      "\u001b[0;31mNameError\u001b[0m                                 Traceback (most recent call last)",
      "\u001b[0;32m/tmp/ipykernel_12260/3442926110.py\u001b[0m in \u001b[0;36m<module>\u001b[0;34m\u001b[0m\n\u001b[1;32m      1\u001b[0m \u001b[0minitial_learning_rate\u001b[0m \u001b[0;34m=\u001b[0m \u001b[0;36m1e-4\u001b[0m\u001b[0;34m\u001b[0m\u001b[0;34m\u001b[0m\u001b[0m\n\u001b[0;32m----> 2\u001b[0;31m lr_schedule = tf.keras.optimizers.schedules.ExponentialDecay(\n\u001b[0m\u001b[1;32m      3\u001b[0m     \u001b[0minitial_learning_rate\u001b[0m\u001b[0;34m,\u001b[0m\u001b[0;34m\u001b[0m\u001b[0;34m\u001b[0m\u001b[0m\n\u001b[1;32m      4\u001b[0m     \u001b[0mdecay_steps\u001b[0m\u001b[0;34m=\u001b[0m\u001b[0;36m1000\u001b[0m\u001b[0;34m,\u001b[0m\u001b[0;34m\u001b[0m\u001b[0;34m\u001b[0m\u001b[0m\n\u001b[1;32m      5\u001b[0m     \u001b[0mdecay_rate\u001b[0m\u001b[0;34m=\u001b[0m\u001b[0;36m0.96\u001b[0m\u001b[0;34m,\u001b[0m\u001b[0;34m\u001b[0m\u001b[0;34m\u001b[0m\u001b[0m\n",
      "\u001b[0;31mNameError\u001b[0m: name 'tf' is not defined"
     ]
    }
   ],
   "source": [
    "initial_learning_rate = 1e-4\n",
    "lr_schedule = tf.keras.optimizers.schedules.ExponentialDecay(\n",
    "    initial_learning_rate,\n",
    "    decay_steps=1000,\n",
    "    decay_rate=0.96,\n",
    "    staircase=True)\n",
    "\n",
    "#訓練\n",
    "# compile  #在每層 layer 和 compile 都可自動尋找超參數\n",
    "strategy = tf.distribute.MirroredStrategy()\n",
    "print(f\"Number of devices: {strategy.num_replicas_in_sync}\")\n",
    "\n",
    "with strategy.scope():\n",
    "    #取得模型架構\n",
    "    MyNet = VGG16(datasetName=dataset.className,input_shape=(32,32,3) ,classes=len(dataset.train_y[0]))\n",
    "    \n",
    "    MyNet.model.compile(\n",
    "        #learning_rate=0.01\n",
    "        optimizer= tf.keras.optimizers.Adam(learning_rate=lr_schedule,epsilon=1e-09),\n",
    "        loss= 'categorical_crossentropy',\n",
    "        metrics=['accuracy']\n",
    "    )\n",
    "\n",
    "# fit\n",
    "history  = \\\n",
    "MyNet.model.fit(\n",
    "    x = dataset.train_x,\n",
    "    y = dataset.train_y,\n",
    "    epochs = 30,\n",
    "    batch_size = 64,\n",
    "    validation_data = (dataset.test_x ,dataset.test_y)\n",
    ")\n"
   ]
  },
  {
   "cell_type": "code",
   "execution_count": null,
   "metadata": {},
   "outputs": [],
   "source": [
    "#取得訓練結果\n",
    "#   save the entire model as a single file\n",
    "#   model = keras.models.load_model(\"path_to_my_model\")\n",
    "# model.save(f\"{save_model_dir}\")\n",
    "MyNet.outputHelper.saveModel()"
   ]
  },
  {
   "cell_type": "code",
   "execution_count": null,
   "metadata": {},
   "outputs": [],
   "source": [
    "history.history"
   ]
  },
  {
   "cell_type": "code",
   "execution_count": null,
   "metadata": {},
   "outputs": [],
   "source": [
    "# print(history.history)\n",
    "r = history.history\n",
    "MyNet.outputHelper.drawTrainProcess(r)"
   ]
  }
 ],
 "metadata": {
  "interpreter": {
   "hash": "15443c155933cd13719346cff95e6995c74e568d18bfff688e9267bd1dcf0534"
  },
  "kernelspec": {
   "display_name": "Python 3.8.2 64-bit ('keras2.6': conda)",
   "name": "python3"
  },
  "language_info": {
   "codemirror_mode": {
    "name": "ipython",
    "version": 3
   },
   "file_extension": ".py",
   "mimetype": "text/x-python",
   "name": "python",
   "nbconvert_exporter": "python",
   "pygments_lexer": "ipython3",
   "version": "3.8.2"
  },
  "orig_nbformat": 4
 },
 "nbformat": 4,
 "nbformat_minor": 2
}
