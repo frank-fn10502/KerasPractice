{
 "cells": [
  {
   "cell_type": "code",
   "execution_count": 1,
   "metadata": {},
   "outputs": [],
   "source": [
    "# my custom lib\n",
    "from basicModel import LeNet\n",
    "from basicModel import AlexNet\n",
    "\n",
    "\n",
    "from small_dataset import MNIST\n",
    "from small_dataset import CIFAR10\n",
    "from small_dataset import CIFAR100"
   ]
  },
  {
   "cell_type": "code",
   "execution_count": 2,
   "metadata": {},
   "outputs": [
    {
     "name": "stdout",
     "output_type": "stream",
     "text": [
      "dataset: \n",
      "    使用 tensorflow.keras 取得的 CIFAR10 資料集(https://keras.io/api/datasets/cifar10/) \n",
      "\n",
      "    The CIFAR-10 dataset consists of 60000 32x32 colour images in 10 classes, with 6000 images per class. \n",
      "\n",
      "    There are 50000 training images and 10000 test images.\n",
      "     \n",
      "\n",
      "one-hot encoder:\n",
      "\tindex: 0 ,pre: [6] ,after:[0. 0. 0. 0. 0. 0. 1. 0. 0. 0.]\n",
      "\tindex: 0 ,pre: [3] ,after:[0. 0. 0. 1. 0. 0. 0. 0. 0. 0.]\n",
      "----------\n",
      "train_x:(50000, 32, 32, 3) \n",
      "train_y:(50000, 10) \n",
      "test_x:(10000, 32, 32, 3) \n",
      "test_y:(10000, 10)\n"
     ]
    }
   ],
   "source": [
    "dataset = CIFAR10(info=True).addChannel().tocategorical().Done()"
   ]
  },
  {
   "cell_type": "code",
   "execution_count": 3,
   "metadata": {},
   "outputs": [
    {
     "name": "stdout",
     "output_type": "stream",
     "text": [
      "Model: \"frank_LeNet\"\n",
      "_________________________________________________________________\n",
      "Layer (type)                 Output Shape              Param #   \n",
      "=================================================================\n",
      "input_1 (InputLayer)         [(None, 32, 32, 3)]       0         \n",
      "_________________________________________________________________\n",
      "conv2d (Conv2D)              (None, 28, 28, 6)         456       \n",
      "_________________________________________________________________\n",
      "max_pooling2d (MaxPooling2D) (None, 14, 14, 6)         0         \n",
      "_________________________________________________________________\n",
      "conv2d_1 (Conv2D)            (None, 10, 10, 16)        2416      \n",
      "_________________________________________________________________\n",
      "max_pooling2d_1 (MaxPooling2 (None, 5, 5, 16)          0         \n",
      "_________________________________________________________________\n",
      "flatten (Flatten)            (None, 400)               0         \n",
      "_________________________________________________________________\n",
      "dense (Dense)                (None, 120)               48120     \n",
      "_________________________________________________________________\n",
      "dense_1 (Dense)              (None, 84)                10164     \n",
      "_________________________________________________________________\n",
      "dense_2 (Dense)              (None, 10)                850       \n",
      "=================================================================\n",
      "Total params: 62,006\n",
      "Trainable params: 62,006\n",
      "Non-trainable params: 0\n",
      "_________________________________________________________________\n",
      "drawModelImg... Done\n",
      "saveModelTxT... Done\n"
     ]
    }
   ],
   "source": [
    "import tensorflow as tf\n",
    "\n",
    "#取得模型架構\n",
    "MyNet = LeNet(datasetName=dataset.className,input_shape=(32,32,3) ,classes=len(dataset.train_y[0]))\n"
   ]
  },
  {
   "cell_type": "code",
   "execution_count": 4,
   "metadata": {},
   "outputs": [
    {
     "name": "stdout",
     "output_type": "stream",
     "text": [
      "Epoch 1/5\n",
      "1563/1563 [==============================] - 18s 10ms/step - loss: 2.3968 - accuracy: 0.0950 - val_loss: 2.3537 - val_accuracy: 0.1038\n",
      "Epoch 2/5\n",
      "1563/1563 [==============================] - 16s 10ms/step - loss: 2.3288 - accuracy: 0.1118 - val_loss: 2.3122 - val_accuracy: 0.1248\n",
      "Epoch 3/5\n",
      "1563/1563 [==============================] - 16s 10ms/step - loss: 2.2950 - accuracy: 0.1316 - val_loss: 2.2823 - val_accuracy: 0.1414\n",
      "Epoch 4/5\n",
      "1563/1563 [==============================] - 16s 10ms/step - loss: 2.2675 - accuracy: 0.1494 - val_loss: 2.2551 - val_accuracy: 0.1594\n",
      "Epoch 5/5\n",
      "1563/1563 [==============================] - 16s 10ms/step - loss: 2.2414 - accuracy: 0.1660 - val_loss: 2.2290 - val_accuracy: 0.1733\n"
     ]
    }
   ],
   "source": [
    "initial_learning_rate = 1e-6\n",
    "lr_schedule = tf.keras.optimizers.schedules.ExponentialDecay(\n",
    "    initial_learning_rate,\n",
    "    decay_steps=1000,\n",
    "    decay_rate=0.96,\n",
    "    staircase=True)\n",
    "\n",
    "#訓練\n",
    "# compile  #在每層 layer 和 compile 都可自動尋找超參數\n",
    "\n",
    "MyNet.model.compile(\n",
    "    #learning_rate=0.01\n",
    "    optimizer= tf.keras.optimizers.Adam(learning_rate=lr_schedule,epsilon=1e-09),\n",
    "    loss= 'categorical_crossentropy',\n",
    "    metrics=['accuracy']\n",
    ")\n",
    "\n",
    "# fit\n",
    "history  = \\\n",
    "MyNet.model.fit(\n",
    "    x = dataset.train_x,\n",
    "    y = dataset.train_y,\n",
    "    epochs = 5,\n",
    "    batch_size = 32,\n",
    "    validation_data = (dataset.test_x ,dataset.test_y)\n",
    ")\n"
   ]
  },
  {
   "cell_type": "code",
   "execution_count": 5,
   "metadata": {},
   "outputs": [
    {
     "name": "stdout",
     "output_type": "stream",
     "text": [
      "INFO:tensorflow:Assets written to: ./result/frank_LeNet/CIFAR10/2021-10-12 13:38:50/model/assets\n",
      "saveModel... Done\n"
     ]
    }
   ],
   "source": [
    "#取得訓練結果\n",
    "#   save the entire model as a single file\n",
    "#   model = keras.models.load_model(\"path_to_my_model\")\n",
    "# model.save(f\"{save_model_dir}\")\n",
    "MyNet.outputHelper.saveModel()"
   ]
  },
  {
   "cell_type": "code",
   "execution_count": 6,
   "metadata": {},
   "outputs": [
    {
     "data": {
      "image/png": "[encoded data removed]",
      "text/plain": [
       "<Figure size 1080x360 with 2 Axes>"
      ]
     },
     "metadata": {
      "needs_background": "light"
     },
     "output_type": "display_data"
    },
    {
     "name": "stdout",
     "output_type": "stream",
     "text": [
      "drawTrainProcess... Done\n"
     ]
    }
   ],
   "source": [
    "# print(history.history)\n",
    "r = history.history\n",
    "MyNet.outputHelper.drawTrainProcess(r)"
   ]
  }
 ],
 "metadata": {
  "interpreter": {
   "hash": "31f2aee4e71d21fbe5cf8b01ff0e069b9275f58929596ceb00d14d90e3e16cd6"
  },
  "kernelspec": {
   "display_name": "Python 3.6.9 64-bit",
   "name": "python3"
  },
  "language_info": {
   "codemirror_mode": {
    "name": "ipython",
    "version": 3
   },
   "file_extension": ".py",
   "mimetype": "text/x-python",
   "name": "python",
   "nbconvert_exporter": "python",
   "pygments_lexer": "ipython3",
   "version": "3.6.9"
  },
  "orig_nbformat": 4
 },
 "nbformat": 4,
 "nbformat_minor": 2
}
