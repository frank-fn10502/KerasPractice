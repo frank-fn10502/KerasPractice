{
 "cells": [
  {
   "cell_type": "code",
   "execution_count": 19,
   "metadata": {},
   "outputs": [],
   "source": [
    "import os\n",
    "import matplotlib.pyplot as plt\n",
    "import tensorflow as tf\n",
    "import tensorflow.keras as keras\n",
    "import datetime\n",
    "import numpy as np   \n",
    "   \n",
    "def __pltOnePlot(title, pos, plotDatas: list):\n",
    "    '''\n",
    "    pos: \n",
    "        ex: (1,2,1)\n",
    "    plotDatas:\n",
    "        ex:\n",
    "        [\n",
    "            [[...] ,'--'],\n",
    "            [[...] ,'-'],\n",
    "        ]\n",
    "    '''\n",
    "    plt.subplot(*pos)\n",
    "    plt.title(title)\n",
    "    plt.xlabel('epoch')\n",
    "    plt.ylabel('loss')\n",
    "    plt.grid(True)\n",
    "    xticks_start = 0\n",
    "    xticks_end = 0\n",
    "    yticks_start = 0\n",
    "    yticks_end = 0\n",
    "    \n",
    "    for datas ,sign in plotDatas:\n",
    "        xticks_end = max(xticks_end ,len(datas))\n",
    "        temp = []\n",
    "        temp.extend(datas)\n",
    "        temp.append(yticks_end)\n",
    "        yticks_end = max(temp)\n",
    "        yticks_start = min(temp)\n",
    "\n",
    "        plt.plot(datas ,sign)\n",
    "    \n",
    "    plt.legend(['train', 'test'], loc='upper left')\n",
    "    plt.xticks(np.arange(xticks_start, xticks_end, (\n",
    "        xticks_start + xticks_end / 10\n",
    "    )))\n",
    "    plt.yticks(np.arange(yticks_start, yticks_end, (\n",
    "        yticks_start + yticks_end / 10\n",
    "    )))"
   ]
  },
  {
   "cell_type": "code",
   "execution_count": 18,
   "metadata": {},
   "outputs": [
    {
     "data": {
      "image/png": "[encoded data removed]",
      "text/plain": [
       "<Figure size 432x288 with 1 Axes>"
      ]
     },
     "metadata": {
      "needs_background": "light"
     },
     "output_type": "display_data"
    }
   ],
   "source": [
    "from utils.outputs import ModelOuputHelper\n",
    "import tensorflow as tf\n",
    "import numpy as np\n",
    "\n",
    "\n",
    "__pltOnePlot(title='test-plot' ,pos=(1,2,1),plotDatas =\n",
    "[\n",
    "    [np.arange(1, 19) ,'-']\n",
    "])\n"
   ]
  }
 ],
 "metadata": {
  "interpreter": {
   "hash": "31f2aee4e71d21fbe5cf8b01ff0e069b9275f58929596ceb00d14d90e3e16cd6"
  },
  "kernelspec": {
   "display_name": "Python 3.6.9 64-bit",
   "name": "python3"
  },
  "language_info": {
   "codemirror_mode": {
    "name": "ipython",
    "version": 3
   },
   "file_extension": ".py",
   "mimetype": "text/x-python",
   "name": "python",
   "nbconvert_exporter": "python",
   "pygments_lexer": "ipython3",
   "version": "3.6.9"
  },
  "orig_nbformat": 4
 },
 "nbformat": 4,
 "nbformat_minor": 2
}
